{
 "cells": [
  {
   "cell_type": "code",
   "execution_count": 41,
   "metadata": {},
   "outputs": [],
   "source": [
    "import pandas as pd\n",
    "import numpy as np\n",
    "import plotly.express as px\n",
    "import matplotlib.pyplot as plt\n",
    "%matplotlib inline"
   ]
  },
  {
   "cell_type": "code",
   "execution_count": 70,
   "metadata": {},
   "outputs": [],
   "source": [
    "def test(a, b, c):\n",
    "    x_1 = (np.negative(b) + np.sqrt(np.square(b) - 4 * a * c)) / (2 * a)\n",
    "    x_2 = (np.negative(b) - np.sqrt(np.square(b) - 4 * a * c)) / (2 * a)   \n",
    "\n",
    "    axis_symmetry = (np.negative(b)) / (2 * a)\n",
    "    vertex = a * np.square(axis_symmetry) + b * axis_symmetry + c\n",
    "    y_cross = a * np.square(0) + b * 0 + c\n",
    "\n",
    "    if np.isnan(x_1) and np.isnan(x_2) == True:\n",
    "        print(\"This equation does not have any roots\")\n",
    "    elif np.isnan(x_1) == True:\n",
    "        print(f\"The roots of the parabola are ({x_1}, 0)\")\n",
    "    elif np.isnan(x_2) == True:\n",
    "        print(f\"The roots of the parabola are ({x_2}, 0)\")\n",
    "    else: \n",
    "        print(f\"The roots of the parabola are ({x_1}, 0) and ({x_2}, 0)\")\n",
    "        \n",
    "    print(f\"The vertex of the parabola is {axis_symmetry, vertex}\")\n",
    "    print(f\"The axis of symmetry for the parabola is x = {axis_symmetry}\")\n",
    "    print(f\"The parabola crosses at the y axis at y = {y_cross}\")"
   ]
  },
  {
   "cell_type": "markdown",
   "metadata": {},
   "source": [
    "# Test Functions"
   ]
  },
  {
   "cell_type": "code",
   "execution_count": 71,
   "metadata": {},
   "outputs": [
    {
     "name": "stdout",
     "output_type": "stream",
     "text": [
      "The roots of the parabola are (-0.06727003433594136, 0) and (-7.432729965664059, 0)\n",
      "The vertex of the parabola is (-3.75, -54.25)\n",
      "The axis of symmetry for the parabola is x = -3.75\n",
      "The parabola crosses at the y axis at y = 2\n"
     ]
    }
   ],
   "source": [
    "test(4, 30, 2)"
   ]
  },
  {
   "cell_type": "code",
   "execution_count": null,
   "metadata": {},
   "outputs": [],
   "source": []
  }
 ],
 "metadata": {
  "interpreter": {
   "hash": "c1cbdb99271f85f837d584153d1b0d3b9742f6a00a6c9562db96dc7a50be9431"
  },
  "kernelspec": {
   "display_name": "Python 3.8.8 64-bit ('base': conda)",
   "language": "python",
   "name": "python3"
  },
  "language_info": {
   "codemirror_mode": {
    "name": "ipython",
    "version": 3
   },
   "file_extension": ".py",
   "mimetype": "text/x-python",
   "name": "python",
   "nbconvert_exporter": "python",
   "pygments_lexer": "ipython3",
   "version": "3.8.8"
  },
  "orig_nbformat": 4
 },
 "nbformat": 4,
 "nbformat_minor": 2
}
