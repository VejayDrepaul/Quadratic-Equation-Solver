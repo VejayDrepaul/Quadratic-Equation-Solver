{
 "cells": [
  {
   "cell_type": "code",
   "execution_count": 6,
   "id": "92e59daf-4c3e-4083-807a-e0921d8dc15e",
   "metadata": {},
   "outputs": [],
   "source": [
    "import math\n",
    "import numpy as np\n",
    "import pandas as pd\n",
    "import matplotlib.pyplot as plt\n",
    "%matplotlib inline"
   ]
  },
  {
   "cell_type": "markdown",
   "id": "8325fefb-9f9a-4488-a4e9-57f376767cf6",
   "metadata": {},
   "source": [
    "# Quadratic Eqution Solver"
   ]
  },
  {
   "cell_type": "code",
   "execution_count": 7,
   "id": "858124ac-09f5-4144-a5f8-7e9792bf0bbe",
   "metadata": {},
   "outputs": [],
   "source": [
    "def quad_solver(a, b, c):\n",
    "    #df = pd.DataFrame({'x': range(-15, 16)})\n",
    "    #df['y'] = a * np.square(df['x']) + b * df['x'] + c\n",
    "    #df['y'] = (a * x**2 + b * x + c)\n",
    "    \n",
    "    xmin, xmax, ymin, ymax = -5, 5, -5, 5\n",
    "    ticks_frequency = 1\n",
    "    fig, ax = plt.subplots(figsize=(10, 10))\n",
    "\n",
    "    fig.patch.set_facecolor('#ffffff')\n",
    "    ax.set(xlim=(xmin-1, xmax+1), ylim=(ymin-1, ymax+1), aspect='equal')\n",
    "    ax.spines['bottom'].set_position('zero')\n",
    "    ax.spines['left'].set_position('zero')\n",
    "    ax.spines['top'].set_visible(False)\n",
    "    ax.spines['right'].set_visible(False)\n",
    "\n",
    "\n",
    "    ax.set_xlabel('$x$', size=14, labelpad=-24, x=1.02)\n",
    "    ax.set_ylabel('$y$', size=14, labelpad=-21, y=1.02, rotation=0)\n",
    "\n",
    "    plt.text(0.49, 0.49, r\"$O$\", ha='right', va='top',\n",
    "        transform=ax.transAxes,\n",
    "             horizontalalignment='center', fontsize=14)\n",
    "\n",
    "\n",
    "\n",
    "    x_ticks = np.arange(xmin, xmax+1, ticks_frequency)\n",
    "    y_ticks = np.arange(ymin, ymax+1, ticks_frequency)\n",
    "    ax.set_xticks(x_ticks[x_ticks != 0])\n",
    "    ax.set_yticks(y_ticks[y_ticks != 0])\n",
    "    ax.set_xticks(np.arange(xmin, xmax+1), minor=True)\n",
    "    ax.set_yticks(np.arange(ymin, ymax+1), minor=True)\n",
    "\n",
    "    ax.grid(which='both', color='grey', linewidth=1, linestyle='-', alpha=0.2)\n",
    "\n",
    "    def func(x):\n",
    "        return (6 *  x**2 + 3 * x - 5)\n",
    "\n",
    "    x = np.linspace(-5, 10, 100)\n",
    "    y = func(x)\n",
    "\n",
    "    plt.plot(x, y, 'b', linewidth=2)\n",
    "    \n",
    "    x_1 = (np.negative(b) + np.sqrt(np.square(b) - 4 * a * c)) / (2 * a)\n",
    "    x_2 = (np.negative(b) - np.sqrt(np.square(b) - 4 * a * c)) / (2 * a)    \n",
    "    \n",
    "    axis_symmetry = (np.negative(b)) / (2 * a)\n",
    "    \n",
    "    vertex = a * np.square(axis_symmetry) + b * axis_symmetry + c\n",
    "    \n",
    "    y_cross = a * np.square(0) + b * 0 + c\n",
    "    \n",
    "    print(f\"The roots of the parabola are ({x_1}, 0) and ({x_2}, 0)\")  \n",
    "    print(f\"The axis of symmetry for the parabola is x = {axis_symmetry}\")\n",
    "    print(f\"The vertex of the parabola is {axis_symmetry, vertex}\")\n",
    "    print(f\"The parabola crosses at the y axis at y = {y_cross}\")"
   ]
  },
  {
   "cell_type": "markdown",
   "id": "0079c548-ade9-4ac4-89ca-54a43894033e",
   "metadata": {},
   "source": [
    "# Test Functions"
   ]
  },
  {
   "cell_type": "code",
   "execution_count": 9,
   "id": "017850d5-1920-431c-8223-3cf41c1237d5",
   "metadata": {},
   "outputs": [
    {
     "name": "stdout",
     "output_type": "stream",
     "text": [
      "Does not cross the x-axis\n",
      "The roots of the parabola are (0.6964847243000456, 0) and (-1.1964847243000456, 0)\n",
      "The axis of symmetry for the parabola is x = -0.25\n",
      "The vertex of the parabola is (-0.25, -5.375)\n",
      "The parabola crosses at the y axis at y = -5\n"
     ]
    },
    {
     "data": {
      "image/png": "[encoded data removed]",
      "text/plain": [
       "<Figure size 720x720 with 1 Axes>"
      ]
     },
     "metadata": {},
     "output_type": "display_data"
    }
   ],
   "source": [
    "quad_solver(6, 3, -5)"
   ]
  }
 ],
 "metadata": {
  "kernelspec": {
   "display_name": "Python 3",
   "language": "python",
   "name": "python3"
  },
  "language_info": {
   "codemirror_mode": {
    "name": "ipython",
    "version": 3
   },
   "file_extension": ".py",
   "mimetype": "text/x-python",
   "name": "python",
   "nbconvert_exporter": "python",
   "pygments_lexer": "ipython3",
   "version": "3.8.8"
  }
 },
 "nbformat": 4,
 "nbformat_minor": 5
}
